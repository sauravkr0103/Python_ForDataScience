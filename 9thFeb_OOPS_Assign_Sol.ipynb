{
 "cells": [
  {
   "cell_type": "markdown",
   "id": "500da503",
   "metadata": {},
   "source": [
    "Q1: Create a vehicle class with an init method having instance variables as name_of_vehicle, max_speed\n",
    "and average_of_vehicle."
   ]
  },
  {
   "cell_type": "code",
   "execution_count": 2,
   "id": "0e6922f1",
   "metadata": {},
   "outputs": [],
   "source": [
    "class vehicle:\n",
    "    def __init__(self,name_of_vehicle, max_speed, average_of_vehicle):\n",
    "        self.name_of_vehicle = name_of_vehicle\n",
    "        self.max_speed = max_speed\n",
    "        self.average_of_vehicle = average_of_vehicle\n",
    "        print(self.name_of_vehicle)\n",
    "        \n",
    "    \n",
    "# saurav= vehicle(\"sauk\", 130, 30)\n",
    "\n",
    "# print(saurav.name_of_vehicle)  \n",
    "# print(saurav.max_speed)            \n",
    "# print(saurav.average_of_vehicle)         "
   ]
  },
  {
   "cell_type": "markdown",
   "id": "91fc12c4",
   "metadata": {},
   "source": [
    "Create a child class car from the vehicle class created in Que 1, which will inherit the vehicle class.\n",
    "Create a method named seating_capacity which takes capacity as an argument and returns the name of\n",
    "the vehicle and its seating capacity."
   ]
  },
  {
   "cell_type": "code",
   "execution_count": 3,
   "id": "9f37b9d8",
   "metadata": {},
   "outputs": [],
   "source": [
    "class Car(vehicle):\n",
    "    def __init__(self, name_of_vehicle, max_speed, average_of_vehicle):\n",
    "        super().__init__(name_of_vehicle, max_speed, average_of_vehicle)\n",
    "\n",
    "    def seating_capacity(self, capacity):\n",
    "        return f\"{self.name_of_vehicle} has a seating capacity of {capacity} passengers.\"\n"
   ]
  },
  {
   "cell_type": "code",
   "execution_count": 4,
   "id": "da7dc6b5",
   "metadata": {},
   "outputs": [
    {
     "name": "stdout",
     "output_type": "stream",
     "text": [
      "Bullet RE\n",
      "Bullet RE has a seating capacity of 3 passengers.\n"
     ]
    }
   ],
   "source": [
    "car = Car(\"Bullet RE\", 99, 3)\n",
    "print(car.seating_capacity(3))  "
   ]
  },
  {
   "cell_type": "markdown",
   "id": "c2470145",
   "metadata": {},
   "source": [
    " What is multiple inheritance? Write a python code to demonstrate multiple inheritance."
   ]
  },
  {
   "cell_type": "markdown",
   "id": "0a126f6a",
   "metadata": {},
   "source": [
    "Multilevel inheritance is a property in which a class inherit property of multiple class. Multiple class is a parent class and the class which inherit is called child class. Given below eaxample will specify in more clear ways."
   ]
  },
  {
   "cell_type": "code",
   "execution_count": null,
   "id": "f66895fc",
   "metadata": {},
   "outputs": [],
   "source": [
    "class Vehicle:\n",
    "    def __init__(self, name, color):\n",
    "        self.name = name\n",
    "        self.color = color\n",
    "        \n",
    "    def drive(self):\n",
    "        print(f\"{self.color} {self.name} is being driven.\")\n",
    "        \n",
    "class Plane:\n",
    "    def __init__(self, max_speed):\n",
    "        self.max_speed = max_speed\n",
    "        \n",
    "    def fly(self):\n",
    "        print(f\"This plane can fly at a maximum speed of {self.max_speed} km/h.\")"
   ]
  },
  {
   "cell_type": "code",
   "execution_count": 18,
   "id": "47f23d09",
   "metadata": {},
   "outputs": [
    {
     "name": "stdout",
     "output_type": "stream",
     "text": [
      "Blue Flying Car is being driven on the road.\n",
      "Blue Flying Car is taking off and flying at a maximum speed of 300 km/h.\n"
     ]
    }
   ],
   "source": [
    "class FlyingCar(Vehicle, Plane):\n",
    "    def __init__(self, name, color, max_speed):\n",
    "        Vehicle.__init__(self, name, color)\n",
    "        Plane.__init__(self, max_speed)\n",
    "        \n",
    "    def drive(self):\n",
    "        print(f\"{self.color} {self.name} is being driven on the road.\")\n",
    "        \n",
    "    def fly(self):\n",
    "        print(f\"{self.color} {self.name} is taking off and flying at a maximum speed of {self.max_speed} km/h.\")\n",
    "        \n",
    "# create an instance of FlyingCar\n",
    "my_flying_car = FlyingCar(\"Flying Car\", \"Blue\", 300)\n",
    "\n",
    "# call drive and fly methods\n",
    "my_flying_car.drive()  # Output: Blue Flying Car is being driven on the road.\n",
    "my_flying_car.fly()    # Output: Blue Flying Car is taking off and flying at a maximum speed of 300 km/h.\n"
   ]
  },
  {
   "cell_type": "markdown",
   "id": "9ba6cb31",
   "metadata": {},
   "source": [
    "What are getter and setter in python? Create a class and create a getter and a setter method in this\n",
    "class."
   ]
  },
  {
   "cell_type": "markdown",
   "id": "ad7549a8",
   "metadata": {},
   "source": [
    "Getter method is a method that returns the value of a private instance variable, and a setter method is a method that sets the value of a private instance variable."
   ]
  },
  {
   "cell_type": "code",
   "execution_count": 29,
   "id": "06c4e710",
   "metadata": {},
   "outputs": [],
   "source": [
    "class Person:\n",
    "    def __init__(self, name, age):\n",
    "        self.name = name\n",
    "        self._age = age\n",
    "        \n",
    "    def get_age(self):\n",
    "        return self._age\n",
    "    \n",
    "    def set_age(self, age):\n",
    "        if age < 0:\n",
    "            raise ValueError(\"Age cannot be negative.\")\n",
    "        self._age = age\n"
   ]
  },
  {
   "cell_type": "code",
   "execution_count": 31,
   "id": "a6624a09",
   "metadata": {},
   "outputs": [
    {
     "name": "stdout",
     "output_type": "stream",
     "text": [
      "25\n",
      "30\n"
     ]
    }
   ],
   "source": [
    "person = Person(\"Alice\", 25)\n",
    "print(person.get_age())  # Output: 25\n",
    "\n",
    "person.set_age(30)\n",
    "print(person.get_age())  # Output: 30\n",
    "\n",
    "# person.set_age(-5)  # Raises ValueError: Age cannot be negative.\n"
   ]
  },
  {
   "cell_type": "markdown",
   "id": "549129af",
   "metadata": {},
   "source": [
    "What is method overriding in python? Write a python code to demonstrate method overriding."
   ]
  },
  {
   "cell_type": "markdown",
   "id": "0d81d5e2",
   "metadata": {},
   "source": [
    "Method overriding is a feature in object-oriented programming where a subclass can provide its own implementation of a method that is already defined in its superclass."
   ]
  },
  {
   "cell_type": "code",
   "execution_count": 32,
   "id": "5c150988",
   "metadata": {},
   "outputs": [
    {
     "name": "stdout",
     "output_type": "stream",
     "text": [
      "The dog barks.\n",
      "The cat meows.\n"
     ]
    }
   ],
   "source": [
    "class Animal:\n",
    "    def __init__(self, name):\n",
    "        self.name = name\n",
    "        \n",
    "    def make_sound(self):\n",
    "        print(\"The animal makes a sound.\")\n",
    "        \n",
    "class Dog(Animal):\n",
    "    def __init__(self, name):\n",
    "        super().__init__(name)\n",
    "        \n",
    "    def make_sound(self):\n",
    "        print(\"The dog barks.\")\n",
    "        \n",
    "class Cat(Animal):\n",
    "    def __init__(self, name):\n",
    "        super().__init__(name)\n",
    "        \n",
    "    def make_sound(self):\n",
    "        print(\"The cat meows.\")\n",
    "        \n",
    "# create an instance of Dog and Cat\n",
    "my_dog = Dog(\"Rufus\")\n",
    "my_cat = Cat(\"Fluffy\")\n",
    "\n",
    "# call make_sound method on instances\n",
    "my_dog.make_sound()  # Output: The dog barks.\n",
    "my_cat.make_sound()  # Output: The cat meows.\n"
   ]
  },
  {
   "cell_type": "code",
   "execution_count": null,
   "id": "412c5ca8",
   "metadata": {},
   "outputs": [],
   "source": []
  }
 ],
 "metadata": {
  "kernelspec": {
   "display_name": "Python 3 (ipykernel)",
   "language": "python",
   "name": "python3"
  },
  "language_info": {
   "codemirror_mode": {
    "name": "ipython",
    "version": 3
   },
   "file_extension": ".py",
   "mimetype": "text/x-python",
   "name": "python",
   "nbconvert_exporter": "python",
   "pygments_lexer": "ipython3",
   "version": "3.9.13"
  }
 },
 "nbformat": 4,
 "nbformat_minor": 5
}
