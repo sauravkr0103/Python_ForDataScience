{
 "cells": [
  {
   "cell_type": "code",
   "execution_count": 4,
   "id": "caa13e76",
   "metadata": {},
   "outputs": [],
   "source": [
    "import pandas as pd"
   ]
  },
  {
   "cell_type": "markdown",
   "id": "96087b66",
   "metadata": {},
   "source": [
    "# List any five functions of the pandas library with execution"
   ]
  },
  {
   "cell_type": "code",
   "execution_count": 38,
   "id": "f919ee5f",
   "metadata": {},
   "outputs": [],
   "source": [
    "##### There are many function of pandas, 5 most important are as follows:\n",
    "\n",
    "# 1. To open any file. pd.read_csv(\"filename.csv\")\n",
    "# 2. To check top 5 rows: df.head() here df is the file name.\n",
    "# 3. To separte the data based on the group we have groupby: df.groupby(\"Criteria_to_group\").count()\n",
    "# 4. To apply any implementaion on the data set we use apply function: \n",
    "#     def calculate_tax(salary):\n",
    "#     return salary * 0.1\n",
    "\n",
    "#     df['Tax'] = df['Salary'].apply(calculate_tax)\n",
    "\n",
    "# 5.To plot any graph we use plot. df.plot(kind =  'bar', label = 'Assignment of Pandas', x= 'time', y = 'work')"
   ]
  },
  {
   "cell_type": "markdown",
   "id": "4e1e1eeb",
   "metadata": {},
   "source": [
    "Given a Pandas DataFrame df with columns 'A', 'B', and 'C', write a Python function to re-index the\n",
    "DataFrame with a new index that starts from 1 and increments by 2 for each row"
   ]
  },
  {
   "cell_type": "code",
   "execution_count": 28,
   "id": "3bc3d617",
   "metadata": {},
   "outputs": [],
   "source": [
    "def reindex_f(df):\n",
    "    original_index = df.index\n",
    "    \n",
    "    reset_index = df.reset_index(drop = True)\n",
    "    \n",
    "    new_index = range(1, len(df)*3 , 3)\n",
    "    \n",
    "    df.index =  new_index\n",
    "    \n",
    "    print(original_index)\n",
    "    print(df.index)\n",
    "    \n",
    "    "
   ]
  },
  {
   "cell_type": "code",
   "execution_count": 29,
   "id": "e697b6af",
   "metadata": {},
   "outputs": [],
   "source": [
    "df = pd.DataFrame({\n",
    "    'A': [10, 20, 30],\n",
    "    'B': [100, 200, 300],\n",
    "    'C': ['foo', 'bar', 'baz']\n",
    "})"
   ]
  },
  {
   "cell_type": "code",
   "execution_count": 30,
   "id": "b9ef1032",
   "metadata": {},
   "outputs": [
    {
     "name": "stdout",
     "output_type": "stream",
     "text": [
      "RangeIndex(start=0, stop=3, step=1)\n",
      "RangeIndex(start=1, stop=9, step=3)\n"
     ]
    }
   ],
   "source": [
    "reindex_f(df)"
   ]
  },
  {
   "cell_type": "markdown",
   "id": "54334e67",
   "metadata": {},
   "source": [
    "You have a Pandas DataFrame df with a column named 'Values'. Write a Python function that\n",
    "iterates over the DataFrame and calculates the sum of the first three values in the 'Values' column. The\n",
    "function should print the sum to the console."
   ]
  },
  {
   "cell_type": "code",
   "execution_count": 33,
   "id": "dbacf82c",
   "metadata": {},
   "outputs": [],
   "source": [
    "df = pd.DataFrame({'id': [1,2,3,4,5,6,7,8],\n",
    "                  'name': ['saurav', 'gaurav', 'rupam','saa','akka','sss','aaaa','hims'],\n",
    "                   'number' : [12,11,23,44,54,24,22,11]\n",
    "                           })"
   ]
  },
  {
   "cell_type": "code",
   "execution_count": 34,
   "id": "5fab1d7f",
   "metadata": {},
   "outputs": [
    {
     "data": {
      "text/html": [
       "<div>\n",
       "<style scoped>\n",
       "    .dataframe tbody tr th:only-of-type {\n",
       "        vertical-align: middle;\n",
       "    }\n",
       "\n",
       "    .dataframe tbody tr th {\n",
       "        vertical-align: top;\n",
       "    }\n",
       "\n",
       "    .dataframe thead th {\n",
       "        text-align: right;\n",
       "    }\n",
       "</style>\n",
       "<table border=\"1\" class=\"dataframe\">\n",
       "  <thead>\n",
       "    <tr style=\"text-align: right;\">\n",
       "      <th></th>\n",
       "      <th>id</th>\n",
       "      <th>name</th>\n",
       "      <th>number</th>\n",
       "    </tr>\n",
       "  </thead>\n",
       "  <tbody>\n",
       "    <tr>\n",
       "      <th>0</th>\n",
       "      <td>1</td>\n",
       "      <td>saurav</td>\n",
       "      <td>12</td>\n",
       "    </tr>\n",
       "    <tr>\n",
       "      <th>1</th>\n",
       "      <td>2</td>\n",
       "      <td>gaurav</td>\n",
       "      <td>11</td>\n",
       "    </tr>\n",
       "    <tr>\n",
       "      <th>2</th>\n",
       "      <td>3</td>\n",
       "      <td>rupam</td>\n",
       "      <td>23</td>\n",
       "    </tr>\n",
       "    <tr>\n",
       "      <th>3</th>\n",
       "      <td>4</td>\n",
       "      <td>saa</td>\n",
       "      <td>44</td>\n",
       "    </tr>\n",
       "    <tr>\n",
       "      <th>4</th>\n",
       "      <td>5</td>\n",
       "      <td>akka</td>\n",
       "      <td>54</td>\n",
       "    </tr>\n",
       "    <tr>\n",
       "      <th>5</th>\n",
       "      <td>6</td>\n",
       "      <td>sss</td>\n",
       "      <td>24</td>\n",
       "    </tr>\n",
       "    <tr>\n",
       "      <th>6</th>\n",
       "      <td>7</td>\n",
       "      <td>aaaa</td>\n",
       "      <td>22</td>\n",
       "    </tr>\n",
       "    <tr>\n",
       "      <th>7</th>\n",
       "      <td>8</td>\n",
       "      <td>hims</td>\n",
       "      <td>11</td>\n",
       "    </tr>\n",
       "  </tbody>\n",
       "</table>\n",
       "</div>"
      ],
      "text/plain": [
       "   id    name  number\n",
       "0   1  saurav      12\n",
       "1   2  gaurav      11\n",
       "2   3   rupam      23\n",
       "3   4     saa      44\n",
       "4   5    akka      54\n",
       "5   6     sss      24\n",
       "6   7    aaaa      22\n",
       "7   8    hims      11"
      ]
     },
     "execution_count": 34,
     "metadata": {},
     "output_type": "execute_result"
    }
   ],
   "source": [
    "df"
   ]
  },
  {
   "cell_type": "code",
   "execution_count": 35,
   "id": "217164f9",
   "metadata": {},
   "outputs": [],
   "source": [
    "df['value'] = df['number'].sum()"
   ]
  },
  {
   "cell_type": "code",
   "execution_count": 36,
   "id": "efe61846",
   "metadata": {},
   "outputs": [
    {
     "data": {
      "text/html": [
       "<div>\n",
       "<style scoped>\n",
       "    .dataframe tbody tr th:only-of-type {\n",
       "        vertical-align: middle;\n",
       "    }\n",
       "\n",
       "    .dataframe tbody tr th {\n",
       "        vertical-align: top;\n",
       "    }\n",
       "\n",
       "    .dataframe thead th {\n",
       "        text-align: right;\n",
       "    }\n",
       "</style>\n",
       "<table border=\"1\" class=\"dataframe\">\n",
       "  <thead>\n",
       "    <tr style=\"text-align: right;\">\n",
       "      <th></th>\n",
       "      <th>id</th>\n",
       "      <th>name</th>\n",
       "      <th>number</th>\n",
       "      <th>value</th>\n",
       "    </tr>\n",
       "  </thead>\n",
       "  <tbody>\n",
       "    <tr>\n",
       "      <th>0</th>\n",
       "      <td>1</td>\n",
       "      <td>saurav</td>\n",
       "      <td>12</td>\n",
       "      <td>201</td>\n",
       "    </tr>\n",
       "    <tr>\n",
       "      <th>1</th>\n",
       "      <td>2</td>\n",
       "      <td>gaurav</td>\n",
       "      <td>11</td>\n",
       "      <td>201</td>\n",
       "    </tr>\n",
       "    <tr>\n",
       "      <th>2</th>\n",
       "      <td>3</td>\n",
       "      <td>rupam</td>\n",
       "      <td>23</td>\n",
       "      <td>201</td>\n",
       "    </tr>\n",
       "    <tr>\n",
       "      <th>3</th>\n",
       "      <td>4</td>\n",
       "      <td>saa</td>\n",
       "      <td>44</td>\n",
       "      <td>201</td>\n",
       "    </tr>\n",
       "    <tr>\n",
       "      <th>4</th>\n",
       "      <td>5</td>\n",
       "      <td>akka</td>\n",
       "      <td>54</td>\n",
       "      <td>201</td>\n",
       "    </tr>\n",
       "    <tr>\n",
       "      <th>5</th>\n",
       "      <td>6</td>\n",
       "      <td>sss</td>\n",
       "      <td>24</td>\n",
       "      <td>201</td>\n",
       "    </tr>\n",
       "    <tr>\n",
       "      <th>6</th>\n",
       "      <td>7</td>\n",
       "      <td>aaaa</td>\n",
       "      <td>22</td>\n",
       "      <td>201</td>\n",
       "    </tr>\n",
       "    <tr>\n",
       "      <th>7</th>\n",
       "      <td>8</td>\n",
       "      <td>hims</td>\n",
       "      <td>11</td>\n",
       "      <td>201</td>\n",
       "    </tr>\n",
       "  </tbody>\n",
       "</table>\n",
       "</div>"
      ],
      "text/plain": [
       "   id    name  number  value\n",
       "0   1  saurav      12    201\n",
       "1   2  gaurav      11    201\n",
       "2   3   rupam      23    201\n",
       "3   4     saa      44    201\n",
       "4   5    akka      54    201\n",
       "5   6     sss      24    201\n",
       "6   7    aaaa      22    201\n",
       "7   8    hims      11    201"
      ]
     },
     "execution_count": 36,
     "metadata": {},
     "output_type": "execute_result"
    }
   ],
   "source": [
    "df"
   ]
  },
  {
   "cell_type": "code",
   "execution_count": 43,
   "id": "1a588c87",
   "metadata": {},
   "outputs": [],
   "source": [
    "import pandas as pd\n",
    "\n",
    "def sum_of_first_three(df):\n",
    "    values_sum = 0\n",
    "    for i in range(3):\n",
    "        values_sum += df['value'][i]\n",
    "    print(\"The sum of the first three values in the 'Values' column is:\", values_sum)\n"
   ]
  },
  {
   "cell_type": "code",
   "execution_count": 44,
   "id": "40510358",
   "metadata": {},
   "outputs": [
    {
     "name": "stdout",
     "output_type": "stream",
     "text": [
      "The sum of the first three values in the 'Values' column is: 603\n"
     ]
    }
   ],
   "source": [
    "sum_of_first_three(df)"
   ]
  },
  {
   "cell_type": "markdown",
   "id": "1c8e4536",
   "metadata": {},
   "source": [
    " Given a Pandas DataFrame df with a column 'Text', write a Python function to create a new column\n",
    "'Word_Count' that contains the number of words in each row of the 'Text' column."
   ]
  },
  {
   "cell_type": "code",
   "execution_count": 49,
   "id": "eb455432",
   "metadata": {},
   "outputs": [],
   "source": [
    "df = pd.DataFrame({'name': ['Saurav', 'ffff','fffddd','fesdd'],\n",
    "      'text':['Hello how are you?',\n",
    "'I am doing well', 'thanks for asking',\n",
    "'This is a sample sentence' ]\n",
    "      })"
   ]
  },
  {
   "cell_type": "code",
   "execution_count": 51,
   "id": "983a1e71",
   "metadata": {},
   "outputs": [
    {
     "name": "stdout",
     "output_type": "stream",
     "text": [
      "     name                       text  length\n",
      "0  Saurav         Hello how are you?      18\n",
      "1    ffff            I am doing well      15\n",
      "2  fffddd          thanks for asking      17\n",
      "3   fesdd  This is a sample sentence      25\n"
     ]
    }
   ],
   "source": [
    "df['length']= df['text'].apply(lambda x :len(x))\n",
    "print(df)"
   ]
  },
  {
   "cell_type": "markdown",
   "id": "4629738b",
   "metadata": {},
   "source": [
    " How are DataFrame.size() and DataFrame.shape() different?"
   ]
  },
  {
   "cell_type": "code",
   "execution_count": 56,
   "id": "09d26248",
   "metadata": {},
   "outputs": [
    {
     "name": "stdout",
     "output_type": "stream",
     "text": [
      "shape : (4, 3)\n",
      "size : 12\n"
     ]
    }
   ],
   "source": [
    "#It gives total number of elements in a dataframe, which is equal to the number of rows multiplied by the number of columns.\n",
    "print('shape :',df.shape)\n",
    "\n",
    "#shape:shape gives the count of rows and column.\n",
    "print('size :', df.size)"
   ]
  },
  {
   "cell_type": "markdown",
   "id": "028390d9",
   "metadata": {},
   "source": [
    "Q6. Which function of pandas do we use to read an excel file?"
   ]
  },
  {
   "cell_type": "code",
   "execution_count": 57,
   "id": "e37c3474",
   "metadata": {},
   "outputs": [],
   "source": [
    "# df= pd.read_xlsx('file_name.xlsx', sheet = 'sheet_name')"
   ]
  },
  {
   "cell_type": "markdown",
   "id": "e00f32dd",
   "metadata": {},
   "source": [
    " You have a Pandas DataFrame df that contains a column named 'Email' that contains email\n",
    "addresses in the format 'username@domain.com'. Write a Python function that creates a new column\n",
    "'Username' in df that contains only the username part of each email address."
   ]
  },
  {
   "cell_type": "code",
   "execution_count": 63,
   "id": "a8e0c45d",
   "metadata": {},
   "outputs": [
    {
     "name": "stdout",
     "output_type": "stream",
     "text": [
      "  name                 email   username\n",
      "0   ss   username@domain.com   username\n",
      "1   tt  user1name@domain.com  user1name\n",
      "2   ee  us111name@domain.com  us111name\n"
     ]
    }
   ],
   "source": [
    "df = pd.DataFrame({'name': ['ss','tt','ee'],\n",
    "      'email': ['username@domain.com','user1name@domain.com','us111name@domain.com']})\n",
    "\n",
    "df['username'] = df['email'].apply(lambda x : x.split('@')[0])\n",
    "\n",
    "print(df)"
   ]
  },
  {
   "cell_type": "markdown",
   "id": "b2bc36a6",
   "metadata": {},
   "source": [
    " You have a Pandas DataFrame df with columns 'A', 'B', and 'C'. Write a Python function that selects\n",
    "all rows where the value in column 'A' is greater than 5 and the value in column 'B' is less than 10. The\n",
    "function should return a new DataFrame that contains only the selected rows."
   ]
  },
  {
   "cell_type": "code",
   "execution_count": 73,
   "id": "b6c3c21b",
   "metadata": {},
   "outputs": [
    {
     "data": {
      "text/plain": [
       "array([ 1,  6, 12, 12, 10, 16, 11,  8, 15,  3])"
      ]
     },
     "execution_count": 73,
     "metadata": {},
     "output_type": "execute_result"
    }
   ],
   "source": [
    "import numpy as np\n",
    "np.random.randint( 1,20,10)"
   ]
  },
  {
   "cell_type": "code",
   "execution_count": 82,
   "id": "704dbdd5",
   "metadata": {},
   "outputs": [
    {
     "name": "stdout",
     "output_type": "stream",
     "text": [
      "    A  B   C\n",
      "1  14  5  13\n",
      "3  13  5  15\n",
      "4   8  5  15\n",
      "6   9  6   8\n",
      "8  19  5   5\n"
     ]
    }
   ],
   "source": [
    "df = pd.DataFrame({'A': np.random.randint( 1,20,10),\n",
    "                   'B': np.random.randint( 5,20,10),\n",
    "                   'C':np.random.randint( 1,20,10)})\n",
    "                   \n",
    "selected_rows = df[(df['A'] > 5) & (df['B'] < 10)]\n",
    "print(selected_rows)"
   ]
  },
  {
   "cell_type": "code",
   "execution_count": null,
   "id": "b3b29953",
   "metadata": {},
   "outputs": [],
   "source": []
  }
 ],
 "metadata": {
  "kernelspec": {
   "display_name": "Python 3 (ipykernel)",
   "language": "python",
   "name": "python3"
  },
  "language_info": {
   "codemirror_mode": {
    "name": "ipython",
    "version": 3
   },
   "file_extension": ".py",
   "mimetype": "text/x-python",
   "name": "python",
   "nbconvert_exporter": "python",
   "pygments_lexer": "ipython3",
   "version": "3.9.13"
  }
 },
 "nbformat": 4,
 "nbformat_minor": 5
}
