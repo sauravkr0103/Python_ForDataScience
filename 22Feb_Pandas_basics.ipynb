{
 "cells": [
  {
   "cell_type": "markdown",
   "id": "2634861a",
   "metadata": {},
   "source": [
    " Create a Pandas Series that contains the following data: 4, 8, 15, 16, 23, and 42. Then, print the series."
   ]
  },
  {
   "cell_type": "code",
   "execution_count": 1,
   "id": "3aa0ed49",
   "metadata": {},
   "outputs": [
    {
     "name": "stdout",
     "output_type": "stream",
     "text": [
      "0     4\n",
      "1     8\n",
      "2    15\n",
      "3    16\n",
      "4    23\n",
      "5    42\n",
      "dtype: int64\n"
     ]
    }
   ],
   "source": [
    "import pandas as pd\n",
    "\n",
    "df = [4, 8, 15, 16, 23, 42]\n",
    "series = pd.Series(df)\n",
    "print(series)\n"
   ]
  },
  {
   "cell_type": "markdown",
   "id": "eb9ebcb2",
   "metadata": {},
   "source": [
    " Create a variable of list type containing 10 elements in it, and apply pandas.Series function on the\n",
    "variable print it."
   ]
  },
  {
   "cell_type": "code",
   "execution_count": 2,
   "id": "7761d7fb",
   "metadata": {},
   "outputs": [
    {
     "name": "stdout",
     "output_type": "stream",
     "text": [
      "[14, 17, 16, 98, 44, 80, 32, 77, 89]\n",
      "0    14\n",
      "1    17\n",
      "2    16\n",
      "3    98\n",
      "4    44\n",
      "5    80\n",
      "6    32\n",
      "7    77\n",
      "8    89\n",
      "dtype: int64\n"
     ]
    }
   ],
   "source": [
    "import pandas as pd\n",
    "import random\n",
    "\n",
    "\n",
    "my_list = []\n",
    "for i in range(1,10):\n",
    "    my_list.append(random.randint(1,100))\n",
    "print(my_list)\n",
    "series = pd.Series(my_list)\n",
    "\n",
    "print(series)\n"
   ]
  },
  {
   "cell_type": "markdown",
   "id": "fcf19191",
   "metadata": {},
   "source": [
    "Create a Pandas DataFrame that contains the following data:"
   ]
  },
  {
   "cell_type": "code",
   "execution_count": 3,
   "id": "9f3cf745",
   "metadata": {},
   "outputs": [
    {
     "name": "stdout",
     "output_type": "stream",
     "text": [
      "     Name  Age  Gender\n",
      "0   Alice   25  Female\n",
      "1     Bob   30    Male\n",
      "2  Claire   27  Female\n"
     ]
    }
   ],
   "source": [
    "import pandas as pd\n",
    "\n",
    "data = {'Name': ['Alice', 'Bob', 'Claire'],\n",
    "        'Age': [25, 30, 27],\n",
    "        'Gender': ['Female', 'Male', 'Female']}\n",
    "\n",
    "df = pd.DataFrame(data)\n",
    "print(df)\n"
   ]
  },
  {
   "cell_type": "markdown",
   "id": "651b0f17",
   "metadata": {},
   "source": [
    "What are some common functions you can use to manipulate data in a Pandas DataFrame? Can\n",
    "you give an example of when you might use one of these functions?"
   ]
  },
  {
   "cell_type": "code",
   "execution_count": 4,
   "id": "9bc0d2c2",
   "metadata": {},
   "outputs": [
    {
     "name": "stdout",
     "output_type": "stream",
     "text": [
      "     name  age  gender\n",
      "0   Alice   25  Female\n",
      "1     Bob   30    Male\n",
      "2  Claire   27  Female\n",
      "3   David   32    Male\n",
      "4    Emma   28  Female\n",
      "     name  age  gender\n",
      "0   Alice   25  Female\n",
      "1     Bob   30    Male\n",
      "2  Claire   27  Female\n",
      "3   David   32    Male\n",
      "4    Emma   28  Female\n",
      "gender\n",
      "Female    3\n",
      "Male      2\n",
      "Name: age, dtype: int64\n"
     ]
    }
   ],
   "source": [
    "import pandas as pd\n",
    "\n",
    "# create a DataFrame\n",
    "data = {'name': ['Alice', 'Bob', 'Claire', 'David', 'Emma'],\n",
    "        'age': [25, 30, 27, 32, 28],\n",
    "        'gender': ['Female', 'Male', 'Female', 'Male', 'Female']}\n",
    "df = pd.DataFrame(data)\n",
    "\n",
    "\n",
    "print(df.head())\n",
    "\n",
    "\n",
    "print(df.tail())\n",
    "\n",
    "df_grouped = df.groupby('gender')\n",
    "\n",
    "grouped = df.groupby('gender')\n",
    "print(grouped['age'].count())\n"
   ]
  },
  {
   "cell_type": "markdown",
   "id": "34f54bdd",
   "metadata": {},
   "source": [
    " Which of the following is mutable in nature Series, DataFrame, Panel?"
   ]
  },
  {
   "cell_type": "code",
   "execution_count": 5,
   "id": "0168dfaf",
   "metadata": {},
   "outputs": [],
   "source": [
    "# Series and DataFrame are mutable in nature.\n",
    "# Panel is immutable.\n",
    "# This means that we can modify the contents of a Series or DataFrame after they are created, but we cannot modify the contents of a Panel."
   ]
  },
  {
   "cell_type": "markdown",
   "id": "56f4a364",
   "metadata": {},
   "source": [
    " Create a DataFrame using multiple Series. Explain with an example."
   ]
  },
  {
   "cell_type": "code",
   "execution_count": 6,
   "id": "feb90ebb",
   "metadata": {},
   "outputs": [
    {
     "name": "stdout",
     "output_type": "stream",
     "text": [
      "      Name  Age  Grade\n",
      "0    Alice   21     87\n",
      "1      Bob   22     92\n",
      "2  Charlie   23     85\n",
      "3    David   24     90\n"
     ]
    }
   ],
   "source": [
    "import pandas as pd\n",
    "\n",
    "# Create a Series for student names\n",
    "names = pd.Series(['Alice', 'Bob', 'Charlie', 'David'])\n",
    "\n",
    "# Create a Series for student ages\n",
    "ages = pd.Series([21, 22, 23, 24])\n",
    "\n",
    "# Create a Series for student grades\n",
    "grades = pd.Series([87, 92, 85, 90])\n",
    "\n",
    "# Create a DataFrame using the three Series\n",
    "df = pd.DataFrame({'Name': names, 'Age': ages, 'Grade': grades})\n",
    "\n",
    "# Print the DataFrame\n",
    "print(df)\n",
    "\n"
   ]
  },
  {
   "cell_type": "code",
   "execution_count": null,
   "id": "0f3ad1e6",
   "metadata": {},
   "outputs": [],
   "source": []
  },
  {
   "cell_type": "code",
   "execution_count": null,
   "id": "7619fdfe",
   "metadata": {},
   "outputs": [],
   "source": []
  }
 ],
 "metadata": {
  "kernelspec": {
   "display_name": "Python 3 (ipykernel)",
   "language": "python",
   "name": "python3"
  },
  "language_info": {
   "codemirror_mode": {
    "name": "ipython",
    "version": 3
   },
   "file_extension": ".py",
   "mimetype": "text/x-python",
   "name": "python",
   "nbconvert_exporter": "python",
   "pygments_lexer": "ipython3",
   "version": "3.9.13"
  }
 },
 "nbformat": 4,
 "nbformat_minor": 5
}
