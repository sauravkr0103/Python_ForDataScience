{
 "cells": [
  {
   "cell_type": "markdown",
   "id": "3082dfd0",
   "metadata": {},
   "source": [
    "Which function is used to open a file? What are the different modes of opening a file? Explain each mode of file opening.\n",
    "\n"
   ]
  },
  {
   "cell_type": "markdown",
   "id": "16ae6059",
   "metadata": {},
   "source": [
    "ANSWER:    With Open() function we open any file in python. Different modes of opening are read as r, write as w, append as a, b as binary and t as text.\n",
    "Example is in below code block:\n"
   ]
  },
  {
   "cell_type": "code",
   "execution_count": null,
   "id": "59e14a11",
   "metadata": {},
   "outputs": [],
   "source": [
    "file = open(\"any_file.txt\", \"r\")\n",
    "# r = read mode, all the types of mode can be written in the above form.\n"
   ]
  },
  {
   "cell_type": "markdown",
   "id": "f8ab9b28",
   "metadata": {},
   "source": [
    " Q2: Why close() function is used? Why is it important to close a file?"
   ]
  },
  {
   "cell_type": "markdown",
   "id": "61d25256",
   "metadata": {},
   "source": [
    "The close() function is used to close an open file in a program. It is important to close a file after reading from or writing to it because it frees up any resources used by the file and ensures that any changes made to the file are saved."
   ]
  },
  {
   "cell_type": "markdown",
   "id": "29dfcb27",
   "metadata": {},
   "source": [
    "Write a python program to create a text file. Write ‘I want to become a Data Scientist’ in that file. Then close the file. Open this file and read the content of the file"
   ]
  },
  {
   "cell_type": "markdown",
   "id": "e7238295",
   "metadata": {},
   "source": [
    " Write a python program to create a text file. Write ‘I want to become a Data Scientist’ in that file. Then\n",
    "close the file. Open this file and read the content of the file. "
   ]
  },
  {
   "cell_type": "code",
   "execution_count": 10,
   "id": "cea9278e",
   "metadata": {},
   "outputs": [
    {
     "name": "stdout",
     "output_type": "stream",
     "text": [
      "I want to become a data_scientist\n"
     ]
    }
   ],
   "source": [
    "file = open(\"File.txt\", \"w\")\n",
    "file.write(\"I want to become a data_scientist\")\n",
    "# read_file = file.read()\n",
    "# read_file.close()\n",
    "print(read_file)\n",
    "file.close()"
   ]
  },
  {
   "cell_type": "markdown",
   "id": "b042b727",
   "metadata": {},
   "source": [
    "Explain the following with python code: read(), readline() and readlines()."
   ]
  },
  {
   "cell_type": "code",
   "execution_count": 15,
   "id": "055e4cb8",
   "metadata": {},
   "outputs": [
    {
     "name": "stdout",
     "output_type": "stream",
     "text": [
      "I want to become a data_scientist\n"
     ]
    }
   ],
   "source": [
    "# There are several ways to read python file. read(), readlines(), readline()\n",
    "xyz = open(\"File.txt\", \"r\")\n",
    "file1= xyz.read()\n",
    "print(file1)\n",
    "xyz.close()\n",
    "\n",
    "#Read Line means it will read one of the the file. Readlines is explained below means reading various line."
   ]
  },
  {
   "cell_type": "code",
   "execution_count": 32,
   "id": "80e77873",
   "metadata": {},
   "outputs": [
    {
     "name": "stdout",
     "output_type": "stream",
     "text": [
      "I am an er alsoI also/n ,I also/n ,I also \n",
      "\n",
      "/n ,I also , \n",
      "\n",
      "I also , \n",
      "\n",
      "I also , \n",
      "\n",
      "I also , \n",
      "\n",
      "I also , \n",
      "\n",
      "I also , \n",
      "\n",
      "I also , \n",
      "\n"
     ]
    }
   ],
   "source": [
    "# xyz1= open(\"File.txt\", \"a\")\n",
    "# xyz1.write(\"I also , \\n\")\n",
    "xyz1=open(\"File.txt\", \"r\")\n",
    "lines= xyz1.readlines()\n",
    "\n",
    "xyz1.close()\n",
    "for line in lines:\n",
    "    print(line)\n"
   ]
  },
  {
   "cell_type": "markdown",
   "id": "641768df",
   "metadata": {},
   "source": [
    "Explain why with statement is used with open(). What is the advantage of using with statement and\n",
    "open() together?"
   ]
  },
  {
   "cell_type": "code",
   "execution_count": 39,
   "id": "89e85f45",
   "metadata": {},
   "outputs": [
    {
     "name": "stdout",
     "output_type": "stream",
     "text": [
      "I am an er alsoI also/n ,I also/n ,I also \n",
      "/n ,I also , \n",
      "I also , \n",
      "I also , \n",
      "I also , \n",
      "I also , \n",
      "I also , \n",
      "I also , \n",
      "\n"
     ]
    }
   ],
   "source": [
    "with open(\"File.txt\", \"r\") as file1:\n",
    "    data= file1.read()\n",
    "    print(data)\n",
    "    \n",
    "#Using with open we dont need to close the file."
   ]
  },
  {
   "cell_type": "markdown",
   "id": "0cfb4bf0",
   "metadata": {},
   "source": [
    " Explain the write() and writelines() functions. Give a suitable example."
   ]
  },
  {
   "cell_type": "code",
   "execution_count": 41,
   "id": "91751c70",
   "metadata": {},
   "outputs": [],
   "source": [
    "# Both write and writelines are used to write a file.In writelines we can write in multiple lines.\n",
    "\n",
    "with open('myfile.txt', 'w') as file:\n",
    "    file.write('Hello, world!\\n')\n",
    "    \n",
    "with open('myfile.txt', 'w') as file:\n",
    "    lines = ['First line\\n', 'Second line\\n', 'Third line\\n']\n",
    "    file.writelines(lines)"
   ]
  },
  {
   "cell_type": "code",
   "execution_count": null,
   "id": "d2373955",
   "metadata": {},
   "outputs": [],
   "source": []
  }
 ],
 "metadata": {
  "kernelspec": {
   "display_name": "Python 3 (ipykernel)",
   "language": "python",
   "name": "python3"
  },
  "language_info": {
   "codemirror_mode": {
    "name": "ipython",
    "version": 3
   },
   "file_extension": ".py",
   "mimetype": "text/x-python",
   "name": "python",
   "nbconvert_exporter": "python",
   "pygments_lexer": "ipython3",
   "version": "3.9.13"
  }
 },
 "nbformat": 4,
 "nbformat_minor": 5
}
